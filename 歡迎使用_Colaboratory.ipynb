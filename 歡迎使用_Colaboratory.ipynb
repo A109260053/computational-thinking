{
  "nbformat": 4,
  "nbformat_minor": 0,
  "metadata": {
    "colab": {
      "name": "歡迎使用 Colaboratory",
      "provenance": [],
      "collapsed_sections": [],
      "include_colab_link": true
    },
    "kernelspec": {
      "display_name": "Python 3",
      "name": "python3"
    }
  },
  "cells": [
    {
      "cell_type": "markdown",
      "metadata": {
        "id": "view-in-github",
        "colab_type": "text"
      },
      "source": [
        "<a href=\"https://colab.research.google.com/github/A109260053/computational-thinking/blob/master/%E6%AD%A1%E8%BF%8E%E4%BD%BF%E7%94%A8_Colaboratory.ipynb\" target=\"_parent\"><img src=\"https://colab.research.google.com/assets/colab-badge.svg\" alt=\"Open In Colab\"/></a>"
      ]
    },
    {
      "cell_type": "code",
      "metadata": {
        "id": "ZoYySZfwlhZR",
        "outputId": "a674fbe0-39b3-4fc4-bc3f-8acb845fcc23",
        "colab": {
          "base_uri": "https://localhost:8080/"
        }
      },
      "source": [
        "#聊天機器人\n",
        "print(\"哈囉，大家好，我叫xxx，是一個聊天機器人\")\n",
        "hobby=\"我喜歡美食，也喜歡養動物，很高興來到世新大學，請大家多多指教\"\n",
        "print(hobby)"
      ],
      "execution_count": 1,
      "outputs": [
        {
          "output_type": "stream",
          "text": [
            "哈囉，大家好，我叫xxx，是一個聊天機器人\n",
            "我喜歡美食，也喜歡養動物，很高興來到世新大學，請大家多多指教\n"
          ],
          "name": "stdout"
        }
      ]
    },
    {
      "cell_type": "code",
      "metadata": {
        "id": "BrOlPiT8m0cW",
        "outputId": "823b4e6c-54ed-4bd5-ccac-23d906efd824",
        "colab": {
          "base_uri": "https://localhost:8080/"
        }
      },
      "source": [
        "#打招呼，取得對方名字\n",
        "name=input(\"嗨!你好，請問大名?\")\n",
        "print(\"我叫\",name)\n",
        "print(\"你好\",name,\"很高興認識你\")"
      ],
      "execution_count": 5,
      "outputs": [
        {
          "output_type": "stream",
          "text": [
            "嗨!你好，請問大名?007\n",
            "我叫 007\n",
            "你好 007 很高興認識你\n"
          ],
          "name": "stdout"
        }
      ]
    },
    {
      "cell_type": "code",
      "metadata": {
        "id": "IMbDI2g0oIrn",
        "outputId": "659b2fc6-ce4c-4a35-d4cf-8a78445b3cf8",
        "colab": {
          "base_uri": "https://localhost:8080/"
        }
      },
      "source": [
        "#從使用者取得今年年分\n",
        "year=int(input(\"請問一下今年是2020年，那是民國幾年呢?\"))\n",
        "print(\"對!應該沒錯，謝謝你\")"
      ],
      "execution_count": 12,
      "outputs": [
        {
          "output_type": "stream",
          "text": [
            "請問一下今年是2020年，那是民國幾年呢?109\n",
            "對!應該沒錯，謝謝你\n"
          ],
          "name": "stdout"
        }
      ]
    },
    {
      "cell_type": "code",
      "metadata": {
        "id": "l7ofaeKho5OG",
        "outputId": "82360873-7ae2-4a7e-b3a2-e2be2964306b",
        "colab": {
          "base_uri": "https://localhost:8080/"
        }
      },
      "source": [
        "#請猜使用者年分\n",
        "myage=int(input(\"再猜猜看我今年幾歲?\"))\n",
        "print(\"哇!你好聰明，我今年的確，myage\")"
      ],
      "execution_count": 15,
      "outputs": [
        {
          "output_type": "stream",
          "text": [
            "再猜猜看我今年幾歲?19\n",
            "哇!你好聰明，我今年的確，myage\n"
          ],
          "name": "stdout"
        }
      ]
    },
    {
      "cell_type": "code",
      "metadata": {
        "id": "UrAY4XIzqYvi",
        "outputId": "6e2cfaa8-bdd7-4508-b53f-e085c6650892",
        "colab": {
          "base_uri": "https://localhost:8080/"
        }
      },
      "source": [
        "# 計算聊天機器人滿100歲的年份\n",
        "nyears = 100 - myage\n",
        "print(\"我再\", nyears, \"年就滿100歲了。\")\n",
        "print(\"到時候是西元\", int(year) + nyears + 1911, \"年\")"
      ],
      "execution_count": 17,
      "outputs": [
        {
          "output_type": "stream",
          "text": [
            "我再 81 年就滿100歲了。\n",
            "到時候是西元 2101 年\n"
          ],
          "name": "stdout"
        }
      ]
    },
    {
      "cell_type": "code",
      "metadata": {
        "id": "OJzJn6SdsX34",
        "outputId": "68956170-beda-48ac-a313-be58275bae6d",
        "colab": {
          "base_uri": "https://localhost:8080/"
        }
      },
      "source": [
        "# 食物話題\n",
        "print(\"我喜歡巧克力，也喜歡嘗試各種新食物。\")\n",
        "food = input(\"你呢。你最喜歡的食物是什麼？： \")\n",
        "print(\"我也喜歡\", food)\n",
        "question = \"你多久吃一次\" + food + \"?: \" \n",
        "howoften = input(question)\n",
        "print(\"真有趣。不知道這樣對健康好不好！\")\n"
      ],
      "execution_count": 22,
      "outputs": [
        {
          "output_type": "stream",
          "text": [
            "我喜歡巧克力，也喜歡嘗試各種新食物。\n",
            "你呢。你最喜歡的食物是什麼？： 巧克力\n",
            "我也喜歡 巧克力\n",
            "你多久吃一次巧克力?: 每天\n",
            "真有趣。不知道這樣對健康好不好！\n"
          ],
          "name": "stdout"
        }
      ]
    },
    {
      "cell_type": "code",
      "metadata": {
        "id": "H9_X9CX7tJBS",
        "outputId": "2d2b3453-f8af-4f56-cd3d-abc9b7bcfa75",
        "colab": {
          "base_uri": "https://localhost:8080/",
          "height": 131
        }
      },
      "source": [
        "# 動物話題\n",
        "animal = input(\"我最喜歡的動物是長頸鹿。你呢?; \")\n",
        "print(\"我不喜歡\"， animal)\n",
        "print(\"不知道\"， animal， \"喜不喜歡吃\"， food, \"?\")"
      ],
      "execution_count": 38,
      "outputs": [
        {
          "output_type": "error",
          "ename": "SyntaxError",
          "evalue": "ignored",
          "traceback": [
            "\u001b[0;36m  File \u001b[0;32m\"<ipython-input-38-a5e31ed06e99>\"\u001b[0;36m, line \u001b[0;32m3\u001b[0m\n\u001b[0;31m    print(\"我不喜歡\"， animal)\u001b[0m\n\u001b[0m                ^\u001b[0m\n\u001b[0;31mSyntaxError\u001b[0m\u001b[0;31m:\u001b[0m invalid character in identifier\n"
          ]
        }
      ]
    },
    {
      "cell_type": "code",
      "metadata": {
        "id": "1jJSd9LgvhCe",
        "outputId": "46710dad-f1f5-4f30-9d98-5e3de5054a34",
        "colab": {
          "base_uri": "https://localhost:8080/"
        }
      },
      "source": [
        "# 關於心情的對話\n",
        "feeling = input(\"你今天心情如何?; \")\n",
        "print(\"告訴我你現在\", feeling, \"的原因。 \")\n",
        "reason = input(\"為什麼: \")\n",
        "print(\"我知道了。謝謝分享。\")"
      ],
      "execution_count": 41,
      "outputs": [
        {
          "output_type": "stream",
          "text": [
            "你今天心情如何?; 不錯\n",
            "告訴我你現在 不錯 的原因。 \n",
            "為什麼: 沒發生什麼事\n",
            "我知道了。謝謝分享。\n"
          ],
          "name": "stdout"
        }
      ]
    },
    {
      "cell_type": "code",
      "metadata": {
        "id": "7t8PETm7v4kY",
        "outputId": "b41a855f-5d47-41e5-bcaa-59505f64c363",
        "colab": {
          "base_uri": "https://localhost:8080/"
        }
      },
      "source": [
        "# 道別\n",
        "print(\"今天事情真多!我累了,下次再聊。\")\n",
        "print(\"再見\", name, \"我喜歡跟你聊天!\")"
      ],
      "execution_count": 42,
      "outputs": [
        {
          "output_type": "stream",
          "text": [
            "今天事情真多!我累了,下次再聊。\n",
            "再見 007 我喜歡跟你聊天!\n"
          ],
          "name": "stdout"
        }
      ]
    }
  ]
}