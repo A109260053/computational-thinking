{
  "nbformat": 4,
  "nbformat_minor": 0,
  "metadata": {
    "colab": {
      "name": "徐緯鳴.week13",
      "provenance": [],
      "authorship_tag": "ABX9TyPqHPXqo0SmiV8FUO+hPGF7",
      "include_colab_link": true
    },
    "kernelspec": {
      "name": "python3",
      "display_name": "Python 3"
    }
  },
  "cells": [
    {
      "cell_type": "markdown",
      "metadata": {
        "id": "view-in-github",
        "colab_type": "text"
      },
      "source": [
        "<a href=\"https://colab.research.google.com/github/A109260053/computational-thinking/blob/master/%E5%BE%90%E7%B7%AF%E9%B3%B4_week13.ipynb\" target=\"_parent\"><img src=\"https://colab.research.google.com/assets/colab-badge.svg\" alt=\"Open In Colab\"/></a>"
      ]
    },
    {
      "cell_type": "code",
      "metadata": {
        "colab": {
          "base_uri": "https://localhost:8080/"
        },
        "id": "b2-zsjWvjrF3",
        "outputId": "1243376f-e2be-4583-997f-df37a098a3bd"
      },
      "source": [
        "for i in range(0,5,1):\r\n",
        "  print(\"Hello\")"
      ],
      "execution_count": 4,
      "outputs": [
        {
          "output_type": "stream",
          "text": [
            "Hello\n",
            "Hello\n",
            "Hello\n",
            "Hello\n",
            "Hello\n"
          ],
          "name": "stdout"
        }
      ]
    },
    {
      "cell_type": "code",
      "metadata": {
        "colab": {
          "base_uri": "https://localhost:8080/"
        },
        "id": "_PSkuoSPlT7Q",
        "outputId": "a0c7c0f7-0777-4a1b-90a9-b27728381b19"
      },
      "source": [
        "for i in range(2,9,2):\r\n",
        "  print(i)"
      ],
      "execution_count": 8,
      "outputs": [
        {
          "output_type": "stream",
          "text": [
            "2\n",
            "4\n",
            "6\n",
            "8\n"
          ],
          "name": "stdout"
        }
      ]
    },
    {
      "cell_type": "code",
      "metadata": {
        "colab": {
          "base_uri": "https://localhost:8080/"
        },
        "id": "W_TLKLQ1ly_-",
        "outputId": "33ebfbf4-f6fa-433b-e007-5a676e9ff9a6"
      },
      "source": [
        "sum =0\r\n",
        "for i in range(1,11,1):\r\n",
        "  sum = sum+ i\r\n",
        "print(\"total is\", sum)\r\n"
      ],
      "execution_count": 25,
      "outputs": [
        {
          "output_type": "stream",
          "text": [
            "total is 55\n"
          ],
          "name": "stdout"
        }
      ]
    },
    {
      "cell_type": "code",
      "metadata": {
        "colab": {
          "base_uri": "https://localhost:8080/"
        },
        "id": "pKyyfs-lumCY",
        "outputId": "7ac612f7-b352-4a13-d314-9e9dd5bca157"
      },
      "source": [
        "sum =0\r\n",
        "for i in range(2,11,2):\r\n",
        "  sum = sum+ i\r\n",
        "print(\"total is\", sum)"
      ],
      "execution_count": 28,
      "outputs": [
        {
          "output_type": "stream",
          "text": [
            "total is 30\n"
          ],
          "name": "stdout"
        }
      ]
    },
    {
      "cell_type": "code",
      "metadata": {
        "colab": {
          "base_uri": "https://localhost:8080/"
        },
        "id": "q_Z_apBcvDFN",
        "outputId": "98c71439-12fc-495d-9023-8592d8953819"
      },
      "source": [
        "sum =0\r\n",
        "for i in range(1,11,1):\r\n",
        "  sum = sum+ i\r\n",
        "print(\"total is\", sum)"
      ],
      "execution_count": 30,
      "outputs": [
        {
          "output_type": "stream",
          "text": [
            "total is 55\n"
          ],
          "name": "stdout"
        }
      ]
    },
    {
      "cell_type": "code",
      "metadata": {
        "id": "pRul2u5wwJXQ"
      },
      "source": [
        ""
      ],
      "execution_count": null,
      "outputs": []
    }
  ]
}