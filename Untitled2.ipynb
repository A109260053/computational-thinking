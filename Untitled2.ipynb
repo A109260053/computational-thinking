{
  "nbformat": 4,
  "nbformat_minor": 0,
  "metadata": {
    "colab": {
      "name": "Untitled2.ipynb",
      "provenance": [],
      "authorship_tag": "ABX9TyPNRFj/MatvvUCKeZh8kRKA",
      "include_colab_link": true
    },
    "kernelspec": {
      "name": "python3",
      "display_name": "Python 3"
    }
  },
  "cells": [
    {
      "cell_type": "markdown",
      "metadata": {
        "id": "view-in-github",
        "colab_type": "text"
      },
      "source": [
        "<a href=\"https://colab.research.google.com/github/A109260053/computational-thinking/blob/master/Untitled2.ipynb\" target=\"_parent\"><img src=\"https://colab.research.google.com/assets/colab-badge.svg\" alt=\"Open In Colab\"/></a>"
      ]
    },
    {
      "cell_type": "code",
      "metadata": {
        "colab": {
          "base_uri": "https://localhost:8080/"
        },
        "id": "HnsZxzJBlvX_",
        "outputId": "6eda8a31-e1cf-4c4a-d3b4-04741cb5a396"
      },
      "source": [
        "\r\n",
        "sheet = ['披薩', '冰淇淋', '熱狗']\r\n",
        "for index in range(len(sheet)):\r\n",
        "  print (index, sheet[index])"
      ],
      "execution_count": 36,
      "outputs": [
        {
          "output_type": "stream",
          "text": [
            "0 披薩\n",
            "1 冰淇淋\n",
            "2 熱狗\n"
          ],
          "name": "stdout"
        }
      ]
    },
    {
      "cell_type": "code",
      "metadata": {
        "colab": {
          "base_uri": "https://localhost:8080/"
        },
        "id": "ECNOins_vKoZ",
        "outputId": "f9103742-13a5-44dd-aaa8-6e8019237567"
      },
      "source": [
        "for i in range(1,10): \r\n",
        "  for j in range(1,10):\r\n",
        "    print(i, '*', j, '=', i*j, '\\t', sep='',end='')"
      ],
      "execution_count": 39,
      "outputs": [
        {
          "output_type": "stream",
          "text": [
            "1*1=1\t1*2=2\t1*3=3\t1*4=4\t1*5=5\t1*6=6\t1*7=7\t1*8=8\t1*9=9\t2*1=2\t2*2=4\t2*3=6\t2*4=8\t2*5=10\t2*6=12\t2*7=14\t2*8=16\t2*9=18\t3*1=3\t3*2=6\t3*3=9\t3*4=12\t3*5=15\t3*6=18\t3*7=21\t3*8=24\t3*9=27\t4*1=4\t4*2=8\t4*3=12\t4*4=16\t4*5=20\t4*6=24\t4*7=28\t4*8=32\t4*9=36\t5*1=5\t5*2=10\t5*3=15\t5*4=20\t5*5=25\t5*6=30\t5*7=35\t5*8=40\t5*9=45\t6*1=6\t6*2=12\t6*3=18\t6*4=24\t6*5=30\t6*6=36\t6*7=42\t6*8=48\t6*9=54\t7*1=7\t7*2=14\t7*3=21\t7*4=28\t7*5=35\t7*6=42\t7*7=49\t7*8=56\t7*9=63\t8*1=8\t8*2=16\t8*3=24\t8*4=32\t8*5=40\t8*6=48\t8*7=56\t8*8=64\t8*9=72\t9*1=9\t9*2=18\t9*3=27\t9*4=36\t9*5=45\t9*6=54\t9*7=63\t9*8=72\t9*9=81\t"
          ],
          "name": "stdout"
        }
      ]
    },
    {
      "cell_type": "code",
      "metadata": {
        "colab": {
          "base_uri": "https://localhost:8080/"
        },
        "id": "pceqfxbnrtVs",
        "outputId": "3aaeafd1-8bd9-4ca4-8cff-093d65132ab1"
      },
      "source": [
        "people = [\"Mario\", \"Peach\", \"Luigi\", \"Daisy\", \"Toad\", \"Yoshi\"]\r\n",
        "dessert = [\"Star Pudding\", \"Peach Pie\", \"Popsicles\", \"Honey Cake\", \"Cookies\", \"Jelly Beans\"]\r\n",
        "for i in people:\r\n",
        "  for a in dessert:\r\n",
        "   print('Hi, my name is', i ,\"My favorite deseert is\", a )\r\n"
      ],
      "execution_count": 42,
      "outputs": [
        {
          "output_type": "stream",
          "text": [
            "Hi, my name is Mario My favorite deseert is Star Pudding\n",
            "Hi, my name is Mario My favorite deseert is Peach Pie\n",
            "Hi, my name is Mario My favorite deseert is Popsicles\n",
            "Hi, my name is Mario My favorite deseert is Honey Cake\n",
            "Hi, my name is Mario My favorite deseert is Cookies\n",
            "Hi, my name is Mario My favorite deseert is Jelly Beans\n",
            "Hi, my name is Peach My favorite deseert is Star Pudding\n",
            "Hi, my name is Peach My favorite deseert is Peach Pie\n",
            "Hi, my name is Peach My favorite deseert is Popsicles\n",
            "Hi, my name is Peach My favorite deseert is Honey Cake\n",
            "Hi, my name is Peach My favorite deseert is Cookies\n",
            "Hi, my name is Peach My favorite deseert is Jelly Beans\n",
            "Hi, my name is Luigi My favorite deseert is Star Pudding\n",
            "Hi, my name is Luigi My favorite deseert is Peach Pie\n",
            "Hi, my name is Luigi My favorite deseert is Popsicles\n",
            "Hi, my name is Luigi My favorite deseert is Honey Cake\n",
            "Hi, my name is Luigi My favorite deseert is Cookies\n",
            "Hi, my name is Luigi My favorite deseert is Jelly Beans\n",
            "Hi, my name is Daisy My favorite deseert is Star Pudding\n",
            "Hi, my name is Daisy My favorite deseert is Peach Pie\n",
            "Hi, my name is Daisy My favorite deseert is Popsicles\n",
            "Hi, my name is Daisy My favorite deseert is Honey Cake\n",
            "Hi, my name is Daisy My favorite deseert is Cookies\n",
            "Hi, my name is Daisy My favorite deseert is Jelly Beans\n",
            "Hi, my name is Toad My favorite deseert is Star Pudding\n",
            "Hi, my name is Toad My favorite deseert is Peach Pie\n",
            "Hi, my name is Toad My favorite deseert is Popsicles\n",
            "Hi, my name is Toad My favorite deseert is Honey Cake\n",
            "Hi, my name is Toad My favorite deseert is Cookies\n",
            "Hi, my name is Toad My favorite deseert is Jelly Beans\n",
            "Hi, my name is Yoshi My favorite deseert is Star Pudding\n",
            "Hi, my name is Yoshi My favorite deseert is Peach Pie\n",
            "Hi, my name is Yoshi My favorite deseert is Popsicles\n",
            "Hi, my name is Yoshi My favorite deseert is Honey Cake\n",
            "Hi, my name is Yoshi My favorite deseert is Cookies\n",
            "Hi, my name is Yoshi My favorite deseert is Jelly Beans\n"
          ],
          "name": "stdout"
        }
      ]
    }
  ]
}