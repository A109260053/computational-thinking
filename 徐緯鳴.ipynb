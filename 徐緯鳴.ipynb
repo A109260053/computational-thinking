{
  "nbformat": 4,
  "nbformat_minor": 0,
  "metadata": {
    "colab": {
      "name": "徐緯鳴.ipynb",
      "provenance": [],
      "authorship_tag": "ABX9TyNPJD2lhUCi6uO6xZ+khGe/",
      "include_colab_link": true
    },
    "kernelspec": {
      "name": "python3",
      "display_name": "Python 3"
    }
  },
  "cells": [
    {
      "cell_type": "markdown",
      "metadata": {
        "id": "view-in-github",
        "colab_type": "text"
      },
      "source": [
        "<a href=\"https://colab.research.google.com/github/A109260053/computational-thinking/blob/master/%E5%BE%90%E7%B7%AF%E9%B3%B4.ipynb\" target=\"_parent\"><img src=\"https://colab.research.google.com/assets/colab-badge.svg\" alt=\"Open In Colab\"/></a>"
      ]
    },
    {
      "cell_type": "code",
      "metadata": {
        "id": "O1WQBvfQY_JT",
        "outputId": "e9e7c252-dba0-4a32-a1cb-d23c4fa3d9cc",
        "colab": {
          "base_uri": "https://localhost:8080/"
        }
      },
      "source": [
        "x = 2\n",
        "y = 5\n",
        "print(x + y)\n",
        "print(x - y)\n",
        "print(x * y)\n",
        "print(x / y)\n",
        "print(x % y)\n",
        "print(x ** y)\n"
      ],
      "execution_count": 1,
      "outputs": [
        {
          "output_type": "stream",
          "text": [
            "7\n",
            "-3\n",
            "10\n",
            "0.4\n",
            "2\n",
            "32\n"
          ],
          "name": "stdout"
        }
      ]
    }
  ]
}