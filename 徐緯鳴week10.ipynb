{
  "nbformat": 4,
  "nbformat_minor": 0,
  "metadata": {
    "colab": {
      "name": "徐緯鳴week10.ipynb",
      "provenance": [],
      "authorship_tag": "ABX9TyOOZI34fjZx47inBSf8EXCR",
      "include_colab_link": true
    },
    "kernelspec": {
      "name": "python3",
      "display_name": "Python 3"
    }
  },
  "cells": [
    {
      "cell_type": "markdown",
      "metadata": {
        "id": "view-in-github",
        "colab_type": "text"
      },
      "source": [
        "<a href=\"https://colab.research.google.com/github/A109260053/computational-thinking/blob/master/%E5%BE%90%E7%B7%AF%E9%B3%B4week10.ipynb\" target=\"_parent\"><img src=\"https://colab.research.google.com/assets/colab-badge.svg\" alt=\"Open In Colab\"/></a>"
      ]
    },
    {
      "cell_type": "code",
      "metadata": {
        "colab": {
          "base_uri": "https://localhost:8080/"
        },
        "id": "pyDemcx7TDoM",
        "outputId": "f36b03ca-ff0c-4fa4-b879-850b29698aec"
      },
      "source": [
        "movie_title=\"it\"\n",
        "release_year=\"2017\"\n",
        "movie_time_min=\"135\"\n",
        "director=\"Andy_Muschietti\"\n",
        "movie_rating=\"7.3\"\n",
        "print(\"電影英文名稱\",movie_title)\n",
        "print(\"電影年份\",release_year)\n",
        "print(\"電影片長\",movie_time_min)\n",
        "print(\"導演名子\",director)\n",
        "print(\"電影評分\",movie_rating)"
      ],
      "execution_count": 3,
      "outputs": [
        {
          "output_type": "stream",
          "text": [
            "電影英文名稱 it\n",
            "電影年份 2017\n",
            "電影片長 135\n",
            "導演名子 Andy_Muschietti\n",
            "電影評分 7.3\n"
          ],
          "name": "stdout"
        }
      ]
    }
  ]
}