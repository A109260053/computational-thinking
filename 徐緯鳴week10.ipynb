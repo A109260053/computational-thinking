{
  "nbformat": 4,
  "nbformat_minor": 0,
  "metadata": {
    "colab": {
      "name": "徐緯鳴week10.ipynb",
      "provenance": [],
      "authorship_tag": "ABX9TyNAiuzkXQT6wudCgyvgDmNH",
      "include_colab_link": true
    },
    "kernelspec": {
      "name": "python3",
      "display_name": "Python 3"
    }
  },
  "cells": [
    {
      "cell_type": "markdown",
      "metadata": {
        "id": "view-in-github",
        "colab_type": "text"
      },
      "source": [
        "<a href=\"https://colab.research.google.com/github/A109260053/computational-thinking/blob/master/%E5%BE%90%E7%B7%AF%E9%B3%B4week10.ipynb\" target=\"_parent\"><img src=\"https://colab.research.google.com/assets/colab-badge.svg\" alt=\"Open In Colab\"/></a>"
      ]
    },
    {
      "cell_type": "code",
      "metadata": {
        "colab": {
          "base_uri": "https://localhost:8080/"
        },
        "id": "xCh4grodhdmk",
        "outputId": "3a7afd6c-f2f9-4a72-92a1-dd0ff4591730"
      },
      "source": [
        "time=123\n",
        "hour=time//60\n",
        "minute=time%60\n",
        "print(time,\"是\",hour,\"小時\",minute,\"分鐘\")\n",
        "hour_1=int(time/60)\n",
        "minute_1=((time/60)-hour_1)*60\n",
        "import math\n",
        "minute_1=round(minute_1)\n",
        "print(time,\"是\",hour_1,\"小時\",minute_1,\"分鐘\")"
      ],
      "execution_count": 13,
      "outputs": [
        {
          "output_type": "stream",
          "text": [
            "123 是 2 小時 3 分鐘\n",
            "123 是 2 小時 3 分鐘\n"
          ],
          "name": "stdout"
        }
      ]
    }
  ]
}