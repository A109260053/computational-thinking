{
  "nbformat": 4,
  "nbformat_minor": 0,
  "metadata": {
    "colab": {
      "name": "week12.ipynb",
      "provenance": [],
      "authorship_tag": "ABX9TyPfvpHdxbvabObjneuTk2ty",
      "include_colab_link": true
    },
    "kernelspec": {
      "name": "python3",
      "display_name": "Python 3"
    }
  },
  "cells": [
    {
      "cell_type": "markdown",
      "metadata": {
        "id": "view-in-github",
        "colab_type": "text"
      },
      "source": [
        "<a href=\"https://colab.research.google.com/github/A109260053/computational-thinking/blob/master/week12.ipynb\" target=\"_parent\"><img src=\"https://colab.research.google.com/assets/colab-badge.svg\" alt=\"Open In Colab\"/></a>"
      ]
    },
    {
      "cell_type": "code",
      "metadata": {
        "colab": {
          "base_uri": "https://localhost:8080/"
        },
        "id": "VTZ08D8KZVJK",
        "outputId": "7ec0cf3e-2d33-4fef-8f4b-06ace8f613ed"
      },
      "source": [
        "shoping_list== ['雞肉', '牛肉', '豬肉', '羊肉', '鵝肉'] \n",
        "print(shoping_list)\n",
        "print(shoping_list[0])\n",
        "print(shoping_list[1])\n",
        "print(shoping_list[1:3])"
      ],
      "execution_count": 16,
      "outputs": [
        {
          "output_type": "stream",
          "text": [
            "['牛肉', '羊肉', '豬肉', '雞肉']\n",
            "牛肉\n",
            "羊肉\n",
            "['羊肉', '豬肉']\n"
          ],
          "name": "stdout"
        }
      ]
    }
  ]
}